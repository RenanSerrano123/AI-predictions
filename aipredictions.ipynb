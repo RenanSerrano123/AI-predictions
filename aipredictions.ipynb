import pandas as pd
tabela=pd.read_csv('clientes.csv')
display(tabela)
display(tabela.info())
from sklearn.preprocessing import LabelEncoder
codificador=LabelEncoder()
tabela['profissao']=codificador.fit_transform(tabela['profissao'])
tabela['mix_credito']=codificador.fit_transform(tabela['mix_credito'])
tabela['comportamento_pagamento']=codificador.fit_transform(tabela['comportamento_pagamento'])
display(tabela.info())
x=tabela.drop(['score_credito', 'id_cliente'], axis=1)
y=tabela['score_credito']
from sklearn.model_selection import train_test_split
x_treino, x_teste, y_treino, y_teste=train_test_split(x, y, test_size=0.3, random_state=1)
from sklearn.ensemble import RandomForestClassifier
from sklearn.neighbors import KNeighborsClassifier
modelo_arvore=RandomForestClassifier()
modelo_knn=KNeighborsClassifier()
modelo_arvore.fit(x_treino, y_treino)
modelo_knn.fit(x_treino, y_treino)
contagem_scores=tabela['score_credito'].value_counts()
print(contagem_scores['Standard']/sum(contagem_scores))
from sklearn.metrics import accuracy_score
previsao_arvore=modelo_arvore.predict(x_teste)
previsao_knn=modelo_knn.predict(x_teste.to_numpy())
print(accuracy_score(y_teste, previsao_arvore))
print(accuracy_score(y_teste, previsao_knn))
novos_clientes=pd.read_csv('novos_clientes.csv')
display(novos_clientes)
novos_clientes['profissao']=codificador.fit_transform(novos_clientes['profissao'])
novos_clientes['mix_credito']=codificador.fit_transform(novos_clientes['mix_credito'])
novos_clientes['comportamento_pagamento']=codificador.fit_transform(novos_clientes['comportamento_pagamento'])
previsoes=modelo_arvore.predict(novos_clientes)
display(previsoes)
colunas=list(x_teste.columns)
importancia=pd.DataFrame(index=colunas, data=modelo_arvore.feature_importances_)
importancia=importancia*100
display(importancia)
